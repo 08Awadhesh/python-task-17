{
 "cells": [
  {
   "cell_type": "markdown",
   "id": "22795beb-2c34-40fe-8077-cd39317a2ab6",
   "metadata": {},
   "source": [
    "**Answer-1**"
   ]
  },
  {
   "cell_type": "code",
   "execution_count": 1,
   "id": "e107fee3-12b5-4f55-a2b6-55973701be5e",
   "metadata": {},
   "outputs": [
    {
     "name": "stdout",
     "output_type": "stream",
     "text": [
      "Password: Aa1!@#bB2 -> Invalid Password\n",
      "Password: Aa1!@#bB2Z -> Valid Password\n",
      "Password: AA1!@#bbzz -> Valid Password\n",
      "Password: aa1!@#BBZZ -> Valid Password\n",
      "Password: Aa1!@bB2 -> Invalid Password\n",
      "Password: Aa1!@#bB$ -> Invalid Password\n"
     ]
    }
   ],
   "source": [
    "import re\n",
    "\n",
    "def is_valid_password(password):\n",
    "    # Check the length of the password\n",
    "    if len(password) != 10:\n",
    "        return \"Invalid Password\"\n",
    "    \n",
    "    # Check for at least two uppercase letters\n",
    "    if len(re.findall(r'[A-Z]', password)) < 2:\n",
    "        return \"Invalid Password\"\n",
    "    \n",
    "    # Check for at least two lowercase letters\n",
    "    if len(re.findall(r'[a-z]', password)) < 2:\n",
    "        return \"Invalid Password\"\n",
    "    \n",
    "    # Check for at least one number\n",
    "    if len(re.findall(r'[0-9]', password)) < 1:\n",
    "        return \"Invalid Password\"\n",
    "    \n",
    "    # Check for at least three special characters\n",
    "    if len(re.findall(r'[!@#$%^&*(),.?\":{}|<>]', password)) < 3:\n",
    "        return \"Invalid Password\"\n",
    "    \n",
    "    # If all checks pass, the password is valid\n",
    "    return \"Valid Password\"\n",
    "\n",
    "# Test cases\n",
    "passwords = [\n",
    "    \"Aa1!@#bB2\",\n",
    "    \"Aa1!@#bB2Z\",\n",
    "    \"AA1!@#bbzz\",\n",
    "    \"aa1!@#BBZZ\",\n",
    "    \"Aa1!@bB2\",\n",
    "    \"Aa1!@#bB$\"\n",
    "]\n",
    "\n",
    "for pw in passwords:\n",
    "    print(f\"Password: {pw} -> {is_valid_password(pw)}\")\n"
   ]
  },
  {
   "cell_type": "markdown",
   "id": "90d07139-e685-4043-b9b3-2819717e0065",
   "metadata": {},
   "source": [
    "**Answer-2**"
   ]
  },
  {
   "cell_type": "markdown",
   "id": "b67f7daf-c70a-4849-8da0-51d758e66c7f",
   "metadata": {},
   "source": [
    "**Check if the string starts with a particular letter\n",
    "python**\n"
   ]
  },
  {
   "cell_type": "code",
   "execution_count": 2,
   "id": "1873fbae-d117-41e9-94c4-1ce4ba301cee",
   "metadata": {},
   "outputs": [
    {
     "name": "stdout",
     "output_type": "stream",
     "text": [
      "['apple']\n"
     ]
    }
   ],
   "source": [
    "strings = [\"apple\", \"banana\", \"cherry\", \"date\", \"elderberry\"]\n",
    "letter = 'a'\n",
    "\n",
    "starts_with_letter = [s for s in strings if s.startswith(letter)]\n",
    "print(starts_with_letter)\n"
   ]
  },
  {
   "cell_type": "markdown",
   "id": "68736db3-af19-4b68-8312-a04f01b8050f",
   "metadata": {},
   "source": [
    "**Check if the string is numeric**"
   ]
  },
  {
   "cell_type": "code",
   "execution_count": 3,
   "id": "84fb6a54-c399-42df-9d36-9f78cd386b98",
   "metadata": {},
   "outputs": [
    {
     "name": "stdout",
     "output_type": "stream",
     "text": [
      "['123', '456', '789']\n"
     ]
    }
   ],
   "source": [
    "strings = [\"123\", \"abc\", \"456\", \"def\", \"789\"]\n",
    "\n",
    "is_numeric = [s for s in strings if s.isnumeric()]\n",
    "print(is_numeric)\n"
   ]
  },
  {
   "cell_type": "markdown",
   "id": "f8644823-bbb0-4c54-a456-b003bcf2d2a7",
   "metadata": {},
   "source": [
    "**Sort a list of tuples having fruit names and their quantity**"
   ]
  },
  {
   "cell_type": "code",
   "execution_count": 4,
   "id": "36896d56-ce8d-42e5-8614-b7674e976b6d",
   "metadata": {},
   "outputs": [
    {
     "name": "stdout",
     "output_type": "stream",
     "text": [
      "[('orange', 80), ('mango', 99), ('grapes', 1000)]\n"
     ]
    }
   ],
   "source": [
    "fruits = [(\"mango\", 99), (\"orange\", 80), (\"grapes\", 1000)]\n",
    "\n",
    "sorted_fruits = sorted(fruits, key=lambda x: x[1])\n",
    "print(sorted_fruits)\n"
   ]
  },
  {
   "cell_type": "markdown",
   "id": "935ebfb0-084f-402d-baab-0bed292894e5",
   "metadata": {},
   "source": [
    "**Find the squares of numbers from 1 to 10**"
   ]
  },
  {
   "cell_type": "code",
   "execution_count": 5,
   "id": "f9b04847-a748-4402-bd0c-466bdfc76500",
   "metadata": {},
   "outputs": [
    {
     "name": "stdout",
     "output_type": "stream",
     "text": [
      "[1, 4, 9, 16, 25, 36, 49, 64, 81, 100]\n"
     ]
    }
   ],
   "source": [
    "squares = [x**2 for x in range(1, 11)]\n",
    "print(squares)\n"
   ]
  },
  {
   "cell_type": "markdown",
   "id": "e3fe3bb2-1778-49b8-8c18-aba7307335bc",
   "metadata": {},
   "source": [
    "**Find the cube root of numbers from 1 to 10**"
   ]
  },
  {
   "cell_type": "code",
   "execution_count": 6,
   "id": "cb1d70a1-aa83-4e90-9899-ff7da7b2582c",
   "metadata": {},
   "outputs": [
    {
     "name": "stdout",
     "output_type": "stream",
     "text": [
      "[1.0, 1.26, 1.44, 1.59, 1.71, 1.82, 1.91, 2.0, 2.08, 2.15]\n"
     ]
    }
   ],
   "source": [
    "import math\n",
    "\n",
    "cube_roots = [round(math.pow(x, 1/3), 2) for x in range(1, 11)]\n",
    "print(cube_roots)\n"
   ]
  },
  {
   "cell_type": "markdown",
   "id": "d578c835-c43f-444e-9ac3-ffbc3a5ba023",
   "metadata": {},
   "source": [
    "**Check if a given number is even**"
   ]
  },
  {
   "cell_type": "code",
   "execution_count": 7,
   "id": "0f534368-f7de-4dd2-aad6-97a9414de18f",
   "metadata": {},
   "outputs": [
    {
     "name": "stdout",
     "output_type": "stream",
     "text": [
      "[False, True, False, True, False, True, False, True, False, True]\n"
     ]
    }
   ],
   "source": [
    "numbers = [1, 2, 3, 4, 5, 6, 7, 8, 9, 10]\n",
    "\n",
    "is_even = [(lambda x: x % 2 == 0)(x) for x in numbers]\n",
    "print(is_even)\n"
   ]
  },
  {
   "cell_type": "markdown",
   "id": "6678bdf6-766c-4944-8315-ec55528703d6",
   "metadata": {},
   "source": [
    "**Filter odd numbers from the given list**"
   ]
  },
  {
   "cell_type": "code",
   "execution_count": 8,
   "id": "6ac0d4bf-fa37-4377-871d-31a8a46e5496",
   "metadata": {},
   "outputs": [
    {
     "name": "stdout",
     "output_type": "stream",
     "text": [
      "[1, 3, 5, 7, 9]\n"
     ]
    }
   ],
   "source": [
    "numbers = [1, 2, 3, 4, 5, 6, 7, 8, 9, 10]\n",
    "\n",
    "odd_numbers = list(filter(lambda x: x % 2 != 0, numbers))\n",
    "print(odd_numbers)\n"
   ]
  },
  {
   "cell_type": "markdown",
   "id": "73c67834-2054-4256-8d3b-536801a8b80c",
   "metadata": {},
   "source": [
    "**Sort a list of integers into positive and negative integers lists**"
   ]
  },
  {
   "cell_type": "code",
   "execution_count": 9,
   "id": "e67e800d-fe52-412a-afb7-0592ac53c082",
   "metadata": {},
   "outputs": [
    {
     "name": "stdout",
     "output_type": "stream",
     "text": [
      "Positive numbers: [1, 2, 3, 4, 5, 6]\n",
      "Negative numbers: [-1, -2, -3, -4, -5]\n"
     ]
    }
   ],
   "source": [
    "numbers = [1, 2, 3, 4, 5, 6, -1, -2, -3, -4, -5, 0]\n",
    "\n",
    "positive_numbers = [x for x in numbers if x > 0]\n",
    "negative_numbers = [x for x in numbers if x < 0]\n",
    "\n",
    "print(\"Positive numbers:\", positive_numbers)\n",
    "print(\"Negative numbers:\", negative_numbers)\n"
   ]
  },
  {
   "cell_type": "code",
   "execution_count": null,
   "id": "52385706-b7e8-4b02-b1d3-b790b2d4548a",
   "metadata": {},
   "outputs": [],
   "source": []
  }
 ],
 "metadata": {
  "kernelspec": {
   "display_name": "Python 3 (ipykernel)",
   "language": "python",
   "name": "python3"
  },
  "language_info": {
   "codemirror_mode": {
    "name": "ipython",
    "version": 3
   },
   "file_extension": ".py",
   "mimetype": "text/x-python",
   "name": "python",
   "nbconvert_exporter": "python",
   "pygments_lexer": "ipython3",
   "version": "3.10.8"
  }
 },
 "nbformat": 4,
 "nbformat_minor": 5
}
